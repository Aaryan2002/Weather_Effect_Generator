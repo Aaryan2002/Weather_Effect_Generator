{
 "cells": [
  {
   "cell_type": "code",
   "execution_count": null,
   "metadata": {},
   "outputs": [],
   "source": [
    "import copy\n",
    "import random\n",
    "import numpy as np\n",
    "from pathlib import Path\n",
    "from tqdm.notebook import tqdm\n",
    "from PIL import Image\n",
    "from lib.style_transfer_utils import (tensor2pil, \n",
    "                                      load_style_transfer_model, \n",
    "                                      run_style_transfer,\n",
    "                                      style_content_image_loader)"
   ]
  },
  {
   "cell_type": "code",
   "execution_count": null,
   "metadata": {},
   "outputs": [],
   "source": [
    "content_img, style_img = style_content_image_loader(\"1479498371963069978.jpg\", \"foggy-003.jpg\")\n",
    "input_img = copy.deepcopy(content_img)\n",
    "\n",
    "output = run_style_transfer(load_style_transfer_model(pretrained=\"fog_vgg_512\"), \n",
    "                            content_img, \n",
    "                            style_img, \n",
    "                            input_img,  \n",
    "                            num_steps=random.randint(100, 150),\n",
    "                            style_weight=100000, \n",
    "                            content_weight=2)\n",
    "output_img = tensor2pil(output[0])\n",
    "output_img.save(f\"test.jpg\")"
   ]
  }
 ],
 "metadata": {
  "kernelspec": {
   "display_name": "Python 3 (ipykernel)",
   "language": "python",
   "name": "python3"
  },
  "language_info": {
   "codemirror_mode": {
    "name": "ipython",
    "version": 3
   },
   "file_extension": ".py",
   "mimetype": "text/x-python",
   "name": "python",
   "nbconvert_exporter": "python",
   "pygments_lexer": "ipython3",
   "version": "3.8.10"
  }
 },
 "nbformat": 4,
 "nbformat_minor": 1
}
