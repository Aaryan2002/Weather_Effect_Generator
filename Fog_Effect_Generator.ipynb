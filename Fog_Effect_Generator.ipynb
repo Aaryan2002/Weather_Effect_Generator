{
 "cells": [
  {
   "cell_type": "code",
   "execution_count": null,
   "id": "270751f9",
   "metadata": {},
   "outputs": [],
   "source": [
    "import os\n",
    "import random\n",
    "import numpy as np\n",
    "from skimage import color\n",
    "from tqdm.notebook import tqdm\n",
    "from PIL import Image, ImageEnhance\n",
    "\n",
    "from lib.lime import LIME\n",
    "from lib.fog_gen import generate_fog"
   ]
  },
  {
   "cell_type": "code",
   "execution_count": null,
   "id": "b79c4b8b",
   "metadata": {},
   "outputs": [],
   "source": [
    "class FogEffectGenerator:\n",
    "    def __init__(self):\n",
    "        self._lime = LIME(iterations=25, alpha=1.0)\n",
    "        self._illumination2darkness = {0: 1, 1: 0.75, 2: 0.65, 3:0.5}\n",
    "        self._weather2visibility = {'fog': (100,250), 'rain': (1000,2000), 'snow': (500, 1000)}\n",
    "        self._illumination2fogcolor = {0: (80, 120), 1: (120, 160), 2: (160, 200), 3: (200, 240)}\n",
    "    \n",
    "    def getIlluminationMap(self, img: np.ndarray) -> np.ndarray: \n",
    "        self._lime.load(img)\n",
    "        T = self._lime.illumMap()\n",
    "        return T\n",
    "    \n",
    "    @staticmethod\n",
    "    def reduce_lightHSV(rgb, sat_red=0.5, val_red=0.5):\n",
    "        hsv = color.rgb2hsv(rgb/255)\n",
    "        hsv[...,1] *= sat_red\n",
    "        hsv[...,2] *= val_red\n",
    "        return (color.hsv2rgb(hsv)*255).astype(np.uint8)\n",
    "    \n",
    "    @staticmethod\n",
    "    def fogAttenuation(img: np.ndarray, depth:np.ndarray, visibility=1000, fog_color=200):\n",
    "        img_fog = generate_fog(img.copy(), depth.copy(), visibility=visibility, fog_color=fog_color)\n",
    "        return img_fog\n",
    "    \n",
    "    def genEffect(self, img_path: str, depth_path: str, weather_type='fog'):\n",
    "        I = np.array(Image.open(img_path))\n",
    "        D = np.load(depth_path)\n",
    "        \n",
    "        T = self.getIlluminationMap(I)\n",
    "        illumination_array = np.histogram(T, bins=4, range=(0,1))[0]/(T.size)\n",
    "        illumination = illumination_array.argmax()\n",
    "        \n",
    "        if illumination>0:\n",
    "            vmax = self._weather2visibility[weather_type][1] if self._weather2visibility[weather_type][1]<=D.max() else D.max()\n",
    "            visibility = random.randint(self._weather2visibility[weather_type][0], int(vmax))\n",
    "            fog_color = random.randint(self._illumination2fogcolor[illumination][0], self._illumination2fogcolor[illumination][1])\n",
    "            I_dark = self.reduce_lightHSV(I, sat_red=self._illumination2darkness[illumination], val_red=self._illumination2darkness[illumination])\n",
    "            I_fog = self.fogAttenuation(I_dark, D, visibility=visibility, fog_color=fog_color)\n",
    "        else:\n",
    "            fog_color = 75\n",
    "            visibility = 150 #D.max()*0.75\n",
    "            I_fog = self.fogAttenuation(I, D, visibility=visibility, fog_color=fog_color)\n",
    "            \n",
    "        return I_fog"
   ]
  },
  {
   "cell_type": "code",
   "execution_count": null,
   "id": "2430e7d2",
   "metadata": {},
   "outputs": [],
   "source": [
    "foggen = FogEffectGenerator()"
   ]
  },
  {
   "cell_type": "code",
   "execution_count": null,
   "id": "74569a4a",
   "metadata": {},
   "outputs": [],
   "source": [
    "save_folder = \"../../dataset/train/fog_synthetic/images\"\n",
    "depth_folder = \"fog_depth\"\n",
    "\n",
    "with open(\"fog_list.txt\", \"r\") as f:\n",
    "    content_files = f.read().splitlines() \n",
    "content_files = [Path(p) for p in content_files]\n",
    "\n",
    "for path in tqdm(content_files):\n",
    "    foggy = foggen.genEffect(path, os.path.join(depth_folder, path.stem+\".npy\"))\n",
    "    Image.fromarray(foggy.astype(np.uint8)).save(os.path.join(save_folder, path.stem+\"_fsyn.jpg\"))"
   ]
  },
  {
   "cell_type": "code",
   "execution_count": null,
   "id": "8d200fd0",
   "metadata": {},
   "outputs": [],
   "source": []
  },
  {
   "cell_type": "code",
   "execution_count": null,
   "id": "8b2e49df",
   "metadata": {},
   "outputs": [],
   "source": []
  },
  {
   "cell_type": "code",
   "execution_count": null,
   "id": "c9545d25",
   "metadata": {},
   "outputs": [],
   "source": []
  },
  {
   "cell_type": "code",
   "execution_count": null,
   "id": "c8faae66",
   "metadata": {},
   "outputs": [],
   "source": [
    "img_name = \"b1d3907b-2278601b\"\n",
    "image_path = f\"data/rgb/{img_name}.jpg\"\n",
    "depth_path = f\"data/depth/{img_name}.npy\""
   ]
  },
  {
   "cell_type": "code",
   "execution_count": null,
   "id": "b4119495",
   "metadata": {},
   "outputs": [],
   "source": [
    "I = we.genEffect(image_path, depth_path, \"fog\")"
   ]
  },
  {
   "cell_type": "code",
   "execution_count": null,
   "id": "fcb99ed1",
   "metadata": {},
   "outputs": [],
   "source": [
    "Image.fromarray(I[0])"
   ]
  },
  {
   "cell_type": "code",
   "execution_count": null,
   "id": "06f62952",
   "metadata": {},
   "outputs": [],
   "source": [
    "I[1:]"
   ]
  },
  {
   "cell_type": "code",
   "execution_count": null,
   "id": "df9cdb8a",
   "metadata": {},
   "outputs": [],
   "source": [
    "# self._illumination_type = {0: \"dark\", 1: \"slightly dark\", 2: \"slightly bright\", 3: \"bright\"}\n",
    "# hist, bin_edges = np.histogram(T, bins=4, range=(0,1))\n",
    "# illumination = self._illumination_type[hist.argmax()]"
   ]
  },
  {
   "cell_type": "code",
   "execution_count": null,
   "id": "14e74694",
   "metadata": {},
   "outputs": [],
   "source": [
    "weather2visibility = {'fog': (100,750), \n",
    "                      'rain': (1000,2000), \n",
    "                      'snow': (500, 1000)}"
   ]
  },
  {
   "cell_type": "code",
   "execution_count": null,
   "id": "657b893c",
   "metadata": {},
   "outputs": [],
   "source": [
    "random.randint(weather2visibility['fog'][0], weather2visibility['fog'][1])"
   ]
  },
  {
   "cell_type": "code",
   "execution_count": null,
   "id": "d6341bd9",
   "metadata": {},
   "outputs": [],
   "source": []
  },
  {
   "cell_type": "code",
   "execution_count": null,
   "id": "4f7da9da",
   "metadata": {},
   "outputs": [],
   "source": [
    "weather2visibility = {'fog': (100,250), 'rain': (1000,2000), 'snow': (500, 1000)}"
   ]
  }
 ],
 "metadata": {
  "kernelspec": {
   "display_name": "Python 3 (ipykernel)",
   "language": "python",
   "name": "python3"
  },
  "language_info": {
   "codemirror_mode": {
    "name": "ipython",
    "version": 3
   },
   "file_extension": ".py",
   "mimetype": "text/x-python",
   "name": "python",
   "nbconvert_exporter": "python",
   "pygments_lexer": "ipython3",
   "version": "3.8.10"
  }
 },
 "nbformat": 4,
 "nbformat_minor": 5
}
