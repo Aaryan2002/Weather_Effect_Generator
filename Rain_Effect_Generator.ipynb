{
 "cells": [
  {
   "cell_type": "code",
   "execution_count": null,
   "id": "270751f9",
   "metadata": {},
   "outputs": [],
   "source": [
    "import cv2\n",
    "import random\n",
    "import numpy as np\n",
    "from PIL import Image\n",
    "from skimage import color\n",
    "\n",
    "from lib.lime import LIME\n",
    "from lib.fog_gen import generate_fog\n",
    "from lib.rain_gen import RainGenUsingNoise"
   ]
  },
  {
   "cell_type": "code",
   "execution_count": null,
   "id": "b79c4b8b",
   "metadata": {},
   "outputs": [],
   "source": [
    "class RainEffectGenerator:\n",
    "    def __init__(self):\n",
    "        self._lime = LIME(iterations=25, alpha=1.0)\n",
    "        self._illumination2darkness = {0: 1, 1: 0.75, 2: 0.65, 3: 0.5}\n",
    "        self._weather2visibility = {'fog': (100,250), 'rain': (1000,2000), 'snow': (500, 1000)}\n",
    "        self._illumination2fogcolor = {0: (80, 120), 1: (120, 160), 2: (160, 200), 3: (200, 240)}\n",
    "        self._rain_layer_gen = RainGenUsingNoise()\n",
    "        \n",
    "    def getIlluminationMap(self, img: np.ndarray) -> np.ndarray: \n",
    "        self._lime.load(img)\n",
    "        T = self._lime.illumMap()\n",
    "        return T\n",
    "    \n",
    "    @staticmethod\n",
    "    def reduce_lightHSV(rgb, sat_red=0.5, val_red=0.5):\n",
    "        hsv = color.rgb2hsv(rgb/255)\n",
    "        hsv[...,1] *= sat_red\n",
    "        hsv[...,2] *= val_red\n",
    "        return (color.hsv2rgb(hsv)*255).astype(np.uint8)\n",
    "    \n",
    "    @staticmethod\n",
    "    def fogAttenuation(img: np.ndarray, depth:np.ndarray, visibility=1000, fog_color=200):\n",
    "        img_fog = generate_fog(img.copy(), depth.copy(), visibility=visibility, fog_color=fog_color)\n",
    "        return img_fog\n",
    "    \n",
    "    @staticmethod\n",
    "    def illumination2opacity(img: np.ndarray, illumination_th):\n",
    "        alpha = color.rgb2gray(img)\n",
    "        alpha[alpha>illumination_th] = 1.0 - alpha[alpha>illumination_th]\n",
    "        alpha_blur = cv2.blur(alpha, (11,11))\n",
    "        return alpha_blur\n",
    "        \n",
    "    @staticmethod    \n",
    "    def alphaBlend(img, layer, alpha):\n",
    "        if layer.ndim==3:\n",
    "            layer = cv2.cvtColor(layer.astype(np.uint8), cv2.COLOR_RGB2GRAY)\n",
    "        blended = img*(1-alpha) + layer[:,:,None]*alpha\n",
    "        return blended\n",
    "    \n",
    "    def genRainLayer(self):\n",
    "        blur_angle = random.choice([-1, 1])*random.randint(60, 90)\n",
    "        layer1 = self._rain_layer_gen.genRainLayer(h=720, \n",
    "                                                  w=1280, \n",
    "                                                  noise_scale=random.uniform(0.35, 0.55), \n",
    "                                                  noise_amount=0.5, \n",
    "                                                  zoom_layer=random.uniform(1.0, 3.5),\n",
    "                                                  blur_kernel_size=random.choice([15, 17, 19, 21, 23]), \n",
    "                                                  blur_angle=blur_angle\n",
    "                                                  )#large\n",
    "        \n",
    "        layer2 = self._rain_layer_gen.genRainLayer(h=720, \n",
    "                                                  w=1280, \n",
    "                                                  noise_scale=random.uniform(0.35, 0.55), \n",
    "                                                  noise_amount=0.15, \n",
    "                                                  zoom_layer=random.uniform(1.0, 3.5),\n",
    "                                                  blur_kernel_size=random.choice([7, 9, 11, 13]), \n",
    "                                                  blur_angle=blur_angle\n",
    "                                                  )#small\n",
    "        # tr = random.random()*0.2+0.25\n",
    "        layer = layer1 + layer2\n",
    "        return layer\n",
    "    \n",
    "    def genEffect(self, img_path: str, depth_path: str, weather_type='rain'):\n",
    "        I = np.array(Image.open(img_path))\n",
    "        D = np.load(depth_path)\n",
    "        \n",
    "        T = self.getIlluminationMap(I)\n",
    "        illumination_array = np.histogram(T, bins=4, range=(0,1))[0]/(T.size)\n",
    "        illumination = illumination_array.argmax()\n",
    "        \n",
    "        if illumination>0:\n",
    "            visibility = random.randint(self._weather2visibility[weather_type][0], self._weather2visibility[weather_type][1])\n",
    "            fog_color = random.randint(self._illumination2fogcolor[illumination][0], self._illumination2fogcolor[illumination][1])\n",
    "            I_dark = self.reduce_lightHSV(I, sat_red=self._illumination2darkness[illumination], val_red=self._illumination2darkness[illumination])\n",
    "            I_fog = self.fogAttenuation(I_dark, D, visibility=visibility, fog_color=fog_color)\n",
    "        else:\n",
    "            fog_color = 75\n",
    "            visibility = D.max()*0.75 if D.max()<1000 else 750\n",
    "            I_fog = self.fogAttenuation(I, D, visibility=visibility, fog_color=fog_color)\n",
    "        \n",
    "        illm_th = illumination_array[illumination] if illumination<2 else 1-illumination_array[illumination]\n",
    "        alpha_ch = self.illumination2opacity(I, illm_th)\n",
    "        rain_layer = self.genRainLayer() \n",
    "        I_rain = self.alphaBlend(I_fog, rain_layer, alpha_ch[:,:,None])\n",
    "        return I_rain.astype(np.uint8)"
   ]
  },
  {
   "cell_type": "code",
   "execution_count": null,
   "id": "2430e7d2",
   "metadata": {},
   "outputs": [],
   "source": [
    "raingen = RainEffectGenerator()"
   ]
  },
  {
   "cell_type": "code",
   "execution_count": null,
   "id": "c964ac06",
   "metadata": {},
   "outputs": [],
   "source": [
    "save_folder = \"../../dataset/train/rain_synthetic/images\"\n",
    "depth_folder = \"rain_depth\"\n",
    "\n",
    "with open(\"rain_list.txt\", \"r\") as f:\n",
    "    content_files = f.read().splitlines() \n",
    "content_files = [Path(p) for p in content_files]\n",
    "\n",
    "for path in tqdm(content_files):\n",
    "    rainy = raingen.genEffect(path, os.path.join(depth_folder, path.stem+\".npy\"))\n",
    "    Image.fromarray(rainy.astype(np.uint8)).save(os.path.join(save_folder, path.stem+\"_rsyn.jpg\"))"
   ]
  },
  {
   "cell_type": "code",
   "execution_count": null,
   "id": "baaa1a17",
   "metadata": {},
   "outputs": [],
   "source": []
  },
  {
   "cell_type": "code",
   "execution_count": null,
   "id": "64c6994b",
   "metadata": {},
   "outputs": [],
   "source": []
  },
  {
   "cell_type": "code",
   "execution_count": null,
   "id": "c8faae66",
   "metadata": {},
   "outputs": [],
   "source": [
    "img_name = \"b1d7b3ac-36f2d3b7\"\n",
    "image_path = f\"data/rgb/{img_name}.jpg\"\n",
    "depth_path = f\"data/depth/{img_name}.npy\""
   ]
  },
  {
   "cell_type": "code",
   "execution_count": null,
   "id": "165db907",
   "metadata": {},
   "outputs": [],
   "source": [
    "I_rain = we.genEffect(img_path=image_path, depth_path=depth_path, weather_type=\"rain\")"
   ]
  },
  {
   "cell_type": "code",
   "execution_count": null,
   "id": "f573aa9f",
   "metadata": {
    "scrolled": false
   },
   "outputs": [],
   "source": [
    "Image.fromarray(I_rain)"
   ]
  },
  {
   "cell_type": "code",
   "execution_count": null,
   "id": "285f5181",
   "metadata": {},
   "outputs": [],
   "source": []
  },
  {
   "cell_type": "code",
   "execution_count": null,
   "id": "0f4c13b5",
   "metadata": {},
   "outputs": [],
   "source": [
    "Rain Effect:\n",
    "    1. calculate illumination\n",
    "    2. darkening image\n",
    "    3. add fog\n",
    "    4. calculate opacity\n",
    "    5. gen rain layer\n",
    "    6. blen rain layer to darkened image using alphablend function"
   ]
  },
  {
   "cell_type": "code",
   "execution_count": null,
   "id": "82da0fe9",
   "metadata": {},
   "outputs": [],
   "source": []
  },
  {
   "cell_type": "code",
   "execution_count": null,
   "id": "f73eb4da",
   "metadata": {},
   "outputs": [],
   "source": []
  }
 ],
 "metadata": {
  "kernelspec": {
   "display_name": "Python 3 (ipykernel)",
   "language": "python",
   "name": "python3"
  },
  "language_info": {
   "codemirror_mode": {
    "name": "ipython",
    "version": 3
   },
   "file_extension": ".py",
   "mimetype": "text/x-python",
   "name": "python",
   "nbconvert_exporter": "python",
   "pygments_lexer": "ipython3",
   "version": "3.8.10"
  }
 },
 "nbformat": 4,
 "nbformat_minor": 5
}
